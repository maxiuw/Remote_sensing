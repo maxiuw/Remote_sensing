{
 "cells": [
  {
   "cell_type": "markdown",
   "metadata": {},
   "source": [
    "# optimization and metrics\n",
    "We first choose optimization e.g. IoU ect then the function which we are going to optimize \n",
    "\n",
    "# NN\n",
    "y = f(f,W)\n",
    "\n",
    "- inference -> making prediction for the input labels, basically using the labels \n",
    "- training -> optimize parameters\n",
    "- f \n",
    "    -> model, for diffrent W, can approximate any function, \n",
    "    -> Not linear e.g. logistic regression\n",
    "    -> KNNm ANNs -> deep ones, super amzing\n",
    "    -> SVM (90s super star)\n",
    "    -> Trees -> boosting (really popular)\n",
    "\n",
    "# sup\n",
    "\n",
    "y_prediction = f(x,W)\n",
    "y_target\n",
    "W = argmin  sum (L (f(x,W),y)) > sum of loss function \n",
    "\n",
    "# train (solve)\n",
    "W - weight\n",
    "W - maximize metrc e.g IoU -> hard to do it \n",
    "W minimize loss function (somehow connected with error)\n",
    "\n",
    "# Loss function \n",
    "- f(y_pred,y_target)\n",
    "- fit on the framework \n",
    "\n",
    "W -> weight vector \n",
    "\n",
    "# gradient descent \n",
    "\n",
    "pytorch -> call the function, build the function, graph itself \n",
    "\n",
    "TF -> build an expression tree (graph)\n",
    "    f(x,W) = f1(f2(f3....(fm(x,Wn),Wn-1)....,W1)"
   ]
  }
 ],
 "metadata": {
  "kernelspec": {
   "display_name": "Python 3",
   "language": "python",
   "name": "python3"
  },
  "language_info": {
   "codemirror_mode": {
    "name": "ipython",
    "version": 3
   },
   "file_extension": ".py",
   "mimetype": "text/x-python",
   "name": "python",
   "nbconvert_exporter": "python",
   "pygments_lexer": "ipython3",
   "version": "3.7.6"
  }
 },
 "nbformat": 4,
 "nbformat_minor": 4
}
